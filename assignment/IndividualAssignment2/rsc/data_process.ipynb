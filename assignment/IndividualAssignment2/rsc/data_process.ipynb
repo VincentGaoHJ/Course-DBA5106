{
 "cells": [
  {
   "cell_type": "markdown",
   "metadata": {},
   "source": [
    "# Data Aggregation"
   ]
  },
  {
   "cell_type": "code",
   "execution_count": 1,
   "metadata": {
    "ExecuteTime": {
     "end_time": "2020-09-08T07:34:46.294899Z",
     "start_time": "2020-09-08T07:34:45.400977Z"
    }
   },
   "outputs": [],
   "source": [
    "import sys\n",
    "import pandas as pd"
   ]
  },
  {
   "cell_type": "code",
   "execution_count": 2,
   "metadata": {
    "ExecuteTime": {
     "end_time": "2020-09-08T07:34:46.395460Z",
     "start_time": "2020-09-08T07:34:46.296891Z"
    }
   },
   "outputs": [],
   "source": [
    "sys.path.append(r'D:\\OneDrive\\Programming\\documents_python\\NUS Courses\\DBA5106\\Course-DBA5106\\assignment\\IndividualAssignment2')\n",
    "from utils.logger import logger\n",
    "from utils.config import RAW_DATA_DIR, PROCESSED_DATA_DIR\n",
    "from utils.data_porter import save_to_csv, read_from_csv"
   ]
  },
  {
   "cell_type": "code",
   "execution_count": 3,
   "metadata": {
    "ExecuteTime": {
     "end_time": "2020-09-08T07:34:46.401443Z",
     "start_time": "2020-09-08T07:34:46.397456Z"
    }
   },
   "outputs": [],
   "source": [
    "# set hyperparameters\n",
    "FIRST_DATA_YM = '2015-06'\n",
    "LAST_DATA_YM = '2020-05'"
   ]
  },
  {
   "cell_type": "code",
   "execution_count": 4,
   "metadata": {
    "ExecuteTime": {
     "end_time": "2020-09-08T07:34:46.419396Z",
     "start_time": "2020-09-08T07:34:46.403438Z"
    },
    "scrolled": true
   },
   "outputs": [],
   "source": [
    "# generate date list(from FIRST_DATA_YM to LAST_DATA_YM)\n",
    "date_lst = pd.date_range(FIRST_DATA_YM, LAST_DATA_YM, freq='MS').astype(str).tolist()\n",
    "date_lst = [''.join(date.split('-'))[:-2] for date in date_lst]"
   ]
  },
  {
   "cell_type": "code",
   "execution_count": null,
   "metadata": {},
   "outputs": [],
   "source": []
  },
  {
   "cell_type": "code",
   "execution_count": 5,
   "metadata": {
    "ExecuteTime": {
     "end_time": "2020-09-08T07:37:00.438827Z",
     "start_time": "2020-09-08T07:34:46.421393Z"
    },
    "scrolled": true
   },
   "outputs": [
    {
     "name": "stderr",
     "output_type": "stream",
     "text": [
      "LOG: 2020-09-15 22:42:53 [INFO] Finish load all monthly file.\n"
     ]
    }
   ],
   "source": [
    "# concat all the monthly data to one dataFrame\n",
    "tripdata = None\n",
    "for date in date_lst:\n",
    "#     logger.debug(f'Processing {date} file.')\n",
    "    suffix = '-hubway-tripdata.csv' if date <= '201804' else '-bluebikes-tripdata.csv'\n",
    "    monthly_file = date + suffix\n",
    "    month_df = read_from_csv(monthly_file, RAW_DATA_DIR)\n",
    "    # default join method is outer join.\n",
    "    # set sort parameter to silence warning\n",
    "    tripdata = month_df if tripdata is None else pd.concat([tripdata, month_df], ignore_index=True, sort=False)\n",
    "logger.info('Finish load all monthly file.')"
   ]
  },
  {
   "cell_type": "markdown",
   "metadata": {},
   "source": [
    "# Data Cleaning"
   ]
  },
  {
   "cell_type": "code",
   "execution_count": 6,
   "metadata": {
    "ExecuteTime": {
     "end_time": "2020-09-08T07:37:04.834859Z",
     "start_time": "2020-09-08T07:37:00.440791Z"
    }
   },
   "outputs": [
    {
     "data": {
      "text/plain": [
       "tripduration                     0\n",
       "starttime                        0\n",
       "stoptime                         0\n",
       "start station id                 0\n",
       "start station name               0\n",
       "start station latitude           0\n",
       "start station longitude          0\n",
       "end station id                   0\n",
       "end station name                 0\n",
       "end station latitude             0\n",
       "end station longitude            0\n",
       "bikeid                           0\n",
       "usertype                         0\n",
       "birth year                  134471\n",
       "gender                      124879\n",
       "postal code                8165118\n",
       "dtype: int64"
      ]
     },
     "execution_count": 6,
     "metadata": {},
     "output_type": "execute_result"
    }
   ],
   "source": [
    "# Check NaN values in every columns\n",
    "tripdata.isnull().sum()"
   ]
  },
  {
   "cell_type": "markdown",
   "metadata": {
    "ExecuteTime": {
     "end_time": "2020-09-08T07:33:15.987520Z",
     "start_time": "2020-09-08T07:33:15.984559Z"
    }
   },
   "source": [
    "## Drop Features"
   ]
  },
  {
   "cell_type": "code",
   "execution_count": 7,
   "metadata": {
    "ExecuteTime": {
     "end_time": "2020-09-08T07:37:06.010363Z",
     "start_time": "2020-09-08T07:37:04.837816Z"
    }
   },
   "outputs": [],
   "source": [
    "# drop postal code column because of massive missing values\n",
    "tripdata.drop(columns = ['postal code'], inplace = True)"
   ]
  },
  {
   "cell_type": "markdown",
   "metadata": {},
   "source": [
    "## Replace Missing Values"
   ]
  },
  {
   "cell_type": "code",
   "execution_count": 8,
   "metadata": {
    "ExecuteTime": {
     "end_time": "2020-09-08T07:37:29.349233Z",
     "start_time": "2020-09-08T07:37:06.013322Z"
    },
    "scrolled": true
   },
   "outputs": [],
   "source": [
    "# Replace all NaN elements with 0s.\n",
    "tripdata.fillna(0, inplace=True)\n",
    "# Replace all \\N elements with 0s.\n",
    "tripdata.replace(r'\\N', 0, inplace=True)"
   ]
  },
  {
   "cell_type": "markdown",
   "metadata": {},
   "source": [
    "## Specify Feature Type"
   ]
  },
  {
   "cell_type": "code",
   "execution_count": 9,
   "metadata": {
    "ExecuteTime": {
     "end_time": "2020-09-08T07:37:49.780142Z",
     "start_time": "2020-09-08T07:37:29.350235Z"
    }
   },
   "outputs": [],
   "source": [
    "# Cast column 'birth year' to a specified dtype(int64).\n",
    "tripdata['birth year'] = tripdata['birth year'].astype('int64')\n",
    "# Cast column 'starttime' & 'stoptime' to a specified dtype(datetime64).\n",
    "tripdata['starttime'] = tripdata['starttime'].astype('datetime64')\n",
    "tripdata['stoptime'] = tripdata['stoptime'].astype('datetime64')"
   ]
  },
  {
   "cell_type": "code",
   "execution_count": 10,
   "metadata": {
    "ExecuteTime": {
     "end_time": "2020-09-08T07:37:49.789118Z",
     "start_time": "2020-09-08T07:37:49.782137Z"
    }
   },
   "outputs": [
    {
     "data": {
      "text/plain": [
       "tripduration                        int64\n",
       "starttime                  datetime64[ns]\n",
       "stoptime                   datetime64[ns]\n",
       "start station id                    int64\n",
       "start station name                 object\n",
       "start station latitude            float64\n",
       "start station longitude           float64\n",
       "end station id                      int64\n",
       "end station name                   object\n",
       "end station latitude              float64\n",
       "end station longitude             float64\n",
       "bikeid                              int64\n",
       "usertype                           object\n",
       "birth year                          int64\n",
       "gender                            float64\n",
       "dtype: object"
      ]
     },
     "execution_count": 10,
     "metadata": {},
     "output_type": "execute_result"
    }
   ],
   "source": [
    "tripdata.dtypes"
   ]
  },
  {
   "cell_type": "markdown",
   "metadata": {},
   "source": [
    "# Data Transformation"
   ]
  },
  {
   "cell_type": "markdown",
   "metadata": {},
   "source": [
    "## Process Station Info"
   ]
  },
  {
   "cell_type": "code",
   "execution_count": 11,
   "metadata": {
    "ExecuteTime": {
     "end_time": "2020-09-08T07:37:53.421494Z",
     "start_time": "2020-09-08T07:37:49.792111Z"
    }
   },
   "outputs": [],
   "source": [
    "# extract station information(station id & station name)\n",
    "start_station_info = tripdata[['start station id', 'start station name', \n",
    "                               'start station latitude', 'start station longitude']]\n",
    "end_station_info = tripdata[['end station id', 'end station name', \n",
    "                             'end station latitude', 'end station longitude']]\n",
    "# rename the columns for later concat\n",
    "station_info_lst = ['station_id','station_name', 'station_latitude', 'station_longitude']\n",
    "start_station_info.columns = station_info_lst\n",
    "end_station_info.columns = station_info_lst\n",
    "\n",
    "# concat and drop duplicates\n",
    "station_info = pd.concat([start_station_info, end_station_info], join='inner', ignore_index=True)\n",
    "station_info.drop_duplicates(subset=None, keep='first', inplace=True)"
   ]
  },
  {
   "cell_type": "code",
   "execution_count": 12,
   "metadata": {
    "ExecuteTime": {
     "end_time": "2020-09-08T07:37:53.429500Z",
     "start_time": "2020-09-08T07:37:53.423491Z"
    }
   },
   "outputs": [],
   "source": [
    "# If errors = ‘coerce’, then invalid parsing will be set as NaN.\n",
    "station_info['station_id'] = pd.to_numeric(station_info['station_id'], errors='coerce').fillna(0)\n",
    "station_info.sort_values('station_id', inplace=True)"
   ]
  },
  {
   "cell_type": "code",
   "execution_count": 13,
   "metadata": {
    "ExecuteTime": {
     "end_time": "2020-09-08T07:37:53.442440Z",
     "start_time": "2020-09-08T07:37:53.431469Z"
    }
   },
   "outputs": [],
   "source": [
    "# drop duplicate id situation(one station have two name, multiple latitude/longitude)\n",
    "station_info_unique_id = station_info.copy()\n",
    "station_info_unique_id.drop_duplicates(subset=['station_id'], keep='last', inplace = True)\n",
    "station_info_unique_id.sort_values('station_id', inplace=True)"
   ]
  },
  {
   "cell_type": "code",
   "execution_count": 14,
   "metadata": {
    "ExecuteTime": {
     "end_time": "2020-09-08T07:37:54.096601Z",
     "start_time": "2020-09-08T07:37:53.445432Z"
    }
   },
   "outputs": [],
   "source": [
    "# drop station name columns from tripdata to reduce file size\n",
    "tripdata.drop(columns=['start station name', 'end station name',\n",
    "                       'start station latitude', 'start station longitude',\n",
    "                       'end station latitude', 'end station longitude'], inplace=True)"
   ]
  },
  {
   "cell_type": "markdown",
   "metadata": {},
   "source": [
    "## Process Usertype Info"
   ]
  },
  {
   "cell_type": "code",
   "execution_count": 15,
   "metadata": {
    "ExecuteTime": {
     "end_time": "2020-09-08T07:37:55.081523Z",
     "start_time": "2020-09-08T07:37:54.098593Z"
    }
   },
   "outputs": [
    {
     "data": {
      "text/plain": [
       "Subscriber    6540965\n",
       "Customer      1734651\n",
       "Name: usertype, dtype: int64"
      ]
     },
     "execution_count": 15,
     "metadata": {},
     "output_type": "execute_result"
    }
   ],
   "source": [
    "# find all unique usertype values\n",
    "tripdata['usertype'].value_counts()"
   ]
  },
  {
   "cell_type": "code",
   "execution_count": 16,
   "metadata": {
    "ExecuteTime": {
     "end_time": "2020-09-08T07:37:55.890422Z",
     "start_time": "2020-09-08T07:37:55.083519Z"
    }
   },
   "outputs": [],
   "source": [
    "# create usertype map(remain usertype id in the main file)\n",
    "usertype_dict = {'Subscriber':1,'Customer':2}\n",
    "tripdata['usertype_id'] = tripdata['usertype'].map(usertype_dict)"
   ]
  },
  {
   "cell_type": "code",
   "execution_count": 17,
   "metadata": {
    "ExecuteTime": {
     "end_time": "2020-09-08T07:37:55.897406Z",
     "start_time": "2020-09-08T07:37:55.892418Z"
    }
   },
   "outputs": [],
   "source": [
    "# save usertype id map to \n",
    "usertype_info = pd.DataFrame(list(usertype_dict.items()),columns = ['usertype','usertype_id'])"
   ]
  },
  {
   "cell_type": "code",
   "execution_count": 18,
   "metadata": {
    "ExecuteTime": {
     "end_time": "2020-09-08T07:37:56.716767Z",
     "start_time": "2020-09-08T07:37:55.899399Z"
    }
   },
   "outputs": [],
   "source": [
    "# drop usertype columns from tripdata to reduce file size\n",
    "tripdata.drop(columns = ['usertype'], inplace = True)"
   ]
  },
  {
   "cell_type": "markdown",
   "metadata": {},
   "source": [
    "## Save to File"
   ]
  },
  {
   "cell_type": "code",
   "execution_count": 19,
   "metadata": {
    "ExecuteTime": {
     "end_time": "2020-09-08T07:41:21.840088Z",
     "start_time": "2020-09-08T07:37:56.717721Z"
    }
   },
   "outputs": [
    {
     "name": "stderr",
     "output_type": "stream",
     "text": [
      "LOG: 2020-09-15 22:43:27 [INFO] Save station info to csv file.\n",
      "LOG: 2020-09-15 22:43:27 [INFO] Save usertype info to csv file.\n",
      "LOG: 2020-09-15 22:44:41 [INFO] Save trip data to csv file.\n"
     ]
    }
   ],
   "source": [
    "# Save station info\n",
    "save_to_csv(station_info, 'station_info.csv', PROCESSED_DATA_DIR)\n",
    "save_to_csv(station_info_unique_id, 'station_info_unique_id.csv', PROCESSED_DATA_DIR)\n",
    "logger.info('Save station info to csv file.')\n",
    "\n",
    "# Save usertype info\n",
    "save_to_csv(usertype_info, 'usertype_info.csv', PROCESSED_DATA_DIR)\n",
    "logger.info('Save usertype info to csv file.')\n",
    "\n",
    "# Save trip data\n",
    "save_to_csv(tripdata, 'tripdata.csv', PROCESSED_DATA_DIR)\n",
    "logger.info('Save trip data to csv file.')"
   ]
  },
  {
   "cell_type": "code",
   "execution_count": 20,
   "metadata": {
    "ExecuteTime": {
     "end_time": "2020-09-08T07:41:21.848066Z",
     "start_time": "2020-09-08T07:41:21.841086Z"
    }
   },
   "outputs": [
    {
     "data": {
      "text/plain": [
       "tripduration                 int64\n",
       "starttime           datetime64[ns]\n",
       "stoptime            datetime64[ns]\n",
       "start station id             int64\n",
       "end station id               int64\n",
       "bikeid                       int64\n",
       "birth year                   int64\n",
       "gender                     float64\n",
       "usertype_id                  int64\n",
       "dtype: object"
      ]
     },
     "execution_count": 20,
     "metadata": {},
     "output_type": "execute_result"
    }
   ],
   "source": [
    "tripdata.dtypes"
   ]
  },
  {
   "cell_type": "code",
   "execution_count": 21,
   "metadata": {},
   "outputs": [
    {
     "data": {
      "text/plain": [
       "station_id             int64\n",
       "station_name          object\n",
       "station_latitude     float64\n",
       "station_longitude    float64\n",
       "dtype: object"
      ]
     },
     "execution_count": 21,
     "metadata": {},
     "output_type": "execute_result"
    }
   ],
   "source": [
    "station_info.dtypes"
   ]
  },
  {
   "cell_type": "code",
   "execution_count": 22,
   "metadata": {},
   "outputs": [
    {
     "data": {
      "text/plain": [
       "usertype       object\n",
       "usertype_id     int64\n",
       "dtype: object"
      ]
     },
     "execution_count": 22,
     "metadata": {},
     "output_type": "execute_result"
    }
   ],
   "source": [
    "usertype_info.dtypes"
   ]
  }
 ],
 "metadata": {
  "kernelspec": {
   "display_name": "Python 3",
   "language": "python",
   "name": "python3"
  },
  "language_info": {
   "codemirror_mode": {
    "name": "ipython",
    "version": 3
   },
   "file_extension": ".py",
   "mimetype": "text/x-python",
   "name": "python",
   "nbconvert_exporter": "python",
   "pygments_lexer": "ipython3",
   "version": "3.7.4"
  },
  "toc": {
   "base_numbering": 1,
   "nav_menu": {},
   "number_sections": true,
   "sideBar": true,
   "skip_h1_title": false,
   "title_cell": "Table of Contents",
   "title_sidebar": "Contents",
   "toc_cell": false,
   "toc_position": {},
   "toc_section_display": true,
   "toc_window_display": true
  },
  "varInspector": {
   "cols": {
    "lenName": 16,
    "lenType": 16,
    "lenVar": 40
   },
   "kernels_config": {
    "python": {
     "delete_cmd_postfix": "",
     "delete_cmd_prefix": "del ",
     "library": "var_list.py",
     "varRefreshCmd": "print(var_dic_list())"
    },
    "r": {
     "delete_cmd_postfix": ") ",
     "delete_cmd_prefix": "rm(",
     "library": "var_list.r",
     "varRefreshCmd": "cat(var_dic_list()) "
    }
   },
   "types_to_exclude": [
    "module",
    "function",
    "builtin_function_or_method",
    "instance",
    "_Feature"
   ],
   "window_display": false
  }
 },
 "nbformat": 4,
 "nbformat_minor": 4
}
